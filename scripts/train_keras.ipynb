{
 "cells": [
  {
   "cell_type": "code",
   "execution_count": 1,
   "id": "f4fe302b",
   "metadata": {},
   "outputs": [],
   "source": [
    "import os, json, cv2, numpy as np\n",
    "import tensorflow as tf\n",
    "from tensorflow.keras import layers, models, optimizers, callbacks\n",
    "from tensorflow.keras.preprocessing.image import ImageDataGenerator\n",
    "import gradio as gr\n"
   ]
  },
  {
   "cell_type": "code",
   "execution_count": 2,
   "id": "987f6af9",
   "metadata": {},
   "outputs": [],
   "source": [
    "BASE_DIR = os.getcwd()\n",
    "DATA_DIR = os.path.join(BASE_DIR, \"data\", \"dataset\")\n",
    "MODEL_DIR = os.path.join(BASE_DIR, \"models\")\n",
    "os.makedirs(MODEL_DIR, exist_ok=True)\n",
    "MODEL_PATH = os.path.join(MODEL_DIR, \"deepfake_detector_keras.h5\")\n",
    "LABELS_PATH = os.path.join(MODEL_DIR, \"labels.json\")\n",
    "\n",
    "IMG_SIZE = (128,128)\n",
    "BATCH = 32\n",
    "EPOCHS = 5\n"
   ]
  },
  {
   "cell_type": "code",
   "execution_count": 3,
   "id": "7743c261",
   "metadata": {},
   "outputs": [],
   "source": [
    "def make_model(input_shape=(128,128,3)):\n",
    "    inputs = layers.Input(shape=input_shape)\n",
    "    x = layers.Conv2D(32, 3, activation=\"relu\", padding=\"same\")(inputs)\n",
    "    x = layers.MaxPooling2D()(x)\n",
    "    x = layers.Conv2D(64, 3, activation=\"relu\", padding=\"same\")(x)\n",
    "    x = layers.MaxPooling2D()(x)\n",
    "    x = layers.Conv2D(128, 3, activation=\"relu\", padding=\"same\")(x)\n",
    "    x = layers.GlobalAveragePooling2D()(x)\n",
    "    x = layers.Dropout(0.3)(x)\n",
    "    x = layers.Dense(64, activation=\"relu\")(x)\n",
    "    outputs = layers.Dense(1, activation=\"sigmoid\")(x)\n",
    "    model = models.Model(inputs, outputs)\n",
    "    model.compile(optimizer=optimizers.Adam(1e-3), loss=\"binary_crossentropy\", metrics=[\"accuracy\"])\n",
    "    return model\n"
   ]
  },
  {
   "cell_type": "code",
   "execution_count": 4,
   "id": "7bd94572",
   "metadata": {},
   "outputs": [
    {
     "ename": "SystemExit",
     "evalue": "Dataset folder not found: d:\\Mtech\\Research paper\\DeepFake Detection\\Minor Version\\scripts\\data\\dataset. Put images under real/ and fake/ subfolders.",
     "output_type": "error",
     "traceback": [
      "An exception has occurred, use %tb to see the full traceback.\n",
      "\u001b[1;31mSystemExit\u001b[0m\u001b[1;31m:\u001b[0m Dataset folder not found: d:\\Mtech\\Research paper\\DeepFake Detection\\Minor Version\\scripts\\data\\dataset. Put images under real/ and fake/ subfolders.\n"
     ]
    },
    {
     "name": "stderr",
     "output_type": "stream",
     "text": [
      "C:\\Users\\LOQ\\AppData\\Roaming\\Python\\Python312\\site-packages\\IPython\\core\\interactiveshell.py:3585: UserWarning: To exit: use 'exit', 'quit', or Ctrl-D.\n",
      "  warn(\"To exit: use 'exit', 'quit', or Ctrl-D.\", stacklevel=1)\n"
     ]
    }
   ],
   "source": [
    "if not os.path.exists(DATA_DIR):\n",
    "    raise SystemExit(f\"Dataset folder not found: {DATA_DIR}. Put images under real/ and fake/ subfolders.\")\n",
    "\n",
    "train_datagen = ImageDataGenerator(\n",
    "    rescale=1/255.0,\n",
    "    validation_split=0.2,\n",
    "    horizontal_flip=True,\n",
    "    rotation_range=10,\n",
    "    width_shift_range=0.05,\n",
    "    height_shift_range=0.05,\n",
    "    zoom_range=0.1,\n",
    ")\n",
    "\n",
    "train_gen = train_datagen.flow_from_directory(\n",
    "    DATA_DIR, target_size=IMG_SIZE, batch_size=BATCH, class_mode=\"binary\", subset=\"training\"\n",
    ")\n",
    "\n",
    "val_gen = train_datagen.flow_from_directory(\n",
    "    DATA_DIR, target_size=IMG_SIZE, batch_size=BATCH, class_mode=\"binary\", subset=\"validation\"\n",
    ")\n",
    "\n",
    "model = make_model((IMG_SIZE[0], IMG_SIZE[1], 3))\n",
    "model.summary()\n",
    "\n",
    "ckpt = callbacks.ModelCheckpoint(MODEL_PATH, monitor=\"val_accuracy\", save_best_only=True, mode=\"max\")\n",
    "es = callbacks.EarlyStopping(monitor=\"val_accuracy\", patience=3, restore_best_weights=True)\n",
    "\n",
    "history = model.fit(train_gen, validation_data=val_gen, epochs=EPOCHS, callbacks=[ckpt, es])\n",
    "model.save(MODEL_PATH)\n",
    "print(\"Model saved at:\", MODEL_PATH)\n"
   ]
  },
  {
   "cell_type": "code",
   "execution_count": null,
   "id": "fd82d161",
   "metadata": {},
   "outputs": [],
   "source": [
    "from tensorflow.keras.models import load_model\n",
    "from PIL import Image\n",
    "\n",
    "model = load_model(MODEL_PATH)\n",
    "\n",
    "def predict(img):\n",
    "    img = np.array(img)\n",
    "    img = cv2.resize(img, IMG_SIZE) / 255.0\n",
    "    img = np.expand_dims(img, axis=0)\n",
    "    pred = model.predict(img)[0][0]\n",
    "    label = \"Real\" if pred > 0.5 else \"Fake\"\n",
    "    confidence = pred if label == \"Real\" else 1 - pred\n",
    "    return {\n",
    "        \"Real\": float(confidence) if label == \"Real\" else float(1 - confidence),\n",
    "        \"Fake\": float(confidence) if label == \"Fake\" else float(1 - confidence)\n",
    "    }\n"
   ]
  },
  {
   "cell_type": "code",
   "execution_count": null,
   "id": "e0af3ef0",
   "metadata": {},
   "outputs": [],
   "source": [
    "demo = gr.Interface(\n",
    "    fn=predict,\n",
    "    inputs=gr.Image(type=\"pil\"),\n",
    "    outputs=gr.Label(num_top_classes=2),\n",
    "    title=\"Deepfake Detector (Minor Project)\",\n",
    "    description=\"Upload an image or use webcam to classify as Real or Fake.\"\n",
    ")\n",
    "demo.launch()\n"
   ]
  }
 ],
 "metadata": {
  "kernelspec": {
   "display_name": "base",
   "language": "python",
   "name": "python3"
  },
  "language_info": {
   "codemirror_mode": {
    "name": "ipython",
    "version": 3
   },
   "file_extension": ".py",
   "mimetype": "text/x-python",
   "name": "python",
   "nbconvert_exporter": "python",
   "pygments_lexer": "ipython3",
   "version": "3.12.7"
  }
 },
 "nbformat": 4,
 "nbformat_minor": 5
}
